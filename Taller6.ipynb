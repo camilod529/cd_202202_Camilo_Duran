{
  "nbformat": 4,
  "nbformat_minor": 0,
  "metadata": {
    "colab": {
      "provenance": [],
      "authorship_tag": "ABX9TyNupXZVvQdgxEpwUkZRggVH",
      "include_colab_link": true
    },
    "kernelspec": {
      "name": "python3",
      "display_name": "Python 3"
    },
    "language_info": {
      "name": "python"
    }
  },
  "cells": [
    {
      "cell_type": "markdown",
      "metadata": {
        "id": "view-in-github",
        "colab_type": "text"
      },
      "source": [
        "<a href=\"https://colab.research.google.com/github/chokpik/cd_202202_Camilo_Duran/blob/master/Taller6.ipynb\" target=\"_parent\"><img src=\"https://colab.research.google.com/assets/colab-badge.svg\" alt=\"Open In Colab\"/></a>"
      ]
    },
    {
      "cell_type": "code",
      "source": [
        "import random\n",
        "def pi_estimado(rango):\n",
        "  puntosInteriores = 0\n",
        "  puntosTotales = 0\n",
        "  pi = 0\n",
        "  for i in range(rango**2):\n",
        "    x = random.uniform(-1,1)\n",
        "    y = random.uniform(-1,1)\n",
        "    distOrigen = x**2 + y**2\n",
        "    if distOrigen <= 1:\n",
        "      puntosInteriores += 1\n",
        "    puntosTotales += 1\n",
        "    pi = 4 * puntosInteriores / puntosTotales\n",
        "  print(f'Estimacion de pi: {pi}')"
      ],
      "metadata": {
        "id": "rfDDm_9MoxiI"
      },
      "execution_count": 7,
      "outputs": []
    },
    {
      "cell_type": "code",
      "execution_count": 8,
      "metadata": {
        "colab": {
          "base_uri": "https://localhost:8080/"
        },
        "id": "zLoWzBm6nRTY",
        "outputId": "642d1117-a20e-49a3-a105-c5e434d4d465"
      },
      "outputs": [
        {
          "output_type": "stream",
          "name": "stdout",
          "text": [
            "Estimacion de pi: 3.14146572\n"
          ]
        }
      ],
      "source": [
        "rango = 10000\n",
        "pi_estimado(rango)"
      ]
    }
  ]
}