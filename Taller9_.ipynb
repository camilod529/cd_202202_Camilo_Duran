{
  "nbformat": 4,
  "nbformat_minor": 0,
  "metadata": {
    "colab": {
      "provenance": [],
      "authorship_tag": "ABX9TyMMGBQp3PxfFPgrbWNy+dS0",
      "include_colab_link": true
    },
    "kernelspec": {
      "name": "python3",
      "display_name": "Python 3"
    },
    "language_info": {
      "name": "python"
    }
  },
  "cells": [
    {
      "cell_type": "markdown",
      "metadata": {
        "id": "view-in-github",
        "colab_type": "text"
      },
      "source": [
        "<a href=\"https://colab.research.google.com/github/chokpik/cd_202202_Camilo_Duran/blob/master/Taller9_.ipynb\" target=\"_parent\"><img src=\"https://colab.research.google.com/assets/colab-badge.svg\" alt=\"Open In Colab\"/></a>"
      ]
    },
    {
      "cell_type": "code",
      "execution_count": 1,
      "metadata": {
        "id": "s4GcRDyUAIwG"
      },
      "outputs": [],
      "source": [
        "import pandas as pd\n",
        "import statsmodels.api as sm\n",
        "from scipy.special import logit\n",
        "from sklearn.model_selection import train_test_split\n",
        "from math import e\n",
        "import numpy as np\n"
      ]
    },
    {
      "cell_type": "code",
      "source": [
        "df = pd.read_csv(\"https://raw.githubusercontent.com/adiacla/bigdata/master/titanic.csv\")\n",
        "df['Survived'] = df['Survived'].fillna(0)\n",
        "df['Sex'] = df['Sex'].replace('male', 0)\n",
        "df['Sex'] = df['Sex'].replace('female', 1)"
      ],
      "metadata": {
        "id": "cXR4lkwsAO4A"
      },
      "execution_count": 8,
      "outputs": []
    },
    {
      "cell_type": "code",
      "source": [
        "# Eliminar nulos de Cabin\n",
        "df0 = df.copy(deep=True)\n",
        "df0 = df0.drop('Cabin', axis= 1)\n",
        "df0 = df0.dropna()"
      ],
      "metadata": {
        "id": "FeR0UHroAUfo"
      },
      "execution_count": 9,
      "outputs": []
    },
    {
      "cell_type": "code",
      "source": [
        "dfTrain, dfTest = train_test_split(df0, test_size=0.2, random_state=25)"
      ],
      "metadata": {
        "id": "vOTiYN-eAiRw"
      },
      "execution_count": 10,
      "outputs": []
    },
    {
      "cell_type": "code",
      "source": [
        "x = dfTrain.iloc[:,[5, 6, 7]]\n",
        "y = dfTrain.Survived\n",
        "logit_model = sm.Logit(y,x)\n",
        "result = logit_model.fit()\n",
        "print(result.summary())"
      ],
      "metadata": {
        "colab": {
          "base_uri": "https://localhost:8080/"
        },
        "id": "ahKUWB7tAkgZ",
        "outputId": "e142e14e-7407-46a0-f41b-6f3ed3c957d6"
      },
      "execution_count": 11,
      "outputs": [
        {
          "output_type": "stream",
          "name": "stdout",
          "text": [
            "Optimization terminated successfully.\n",
            "         Current function value: 0.663036\n",
            "         Iterations 4\n",
            "                           Logit Regression Results                           \n",
            "==============================================================================\n",
            "Dep. Variable:               Survived   No. Observations:                  569\n",
            "Model:                          Logit   Df Residuals:                      566\n",
            "Method:                           MLE   Df Model:                            2\n",
            "Date:                Sun, 06 Nov 2022   Pseudo R-squ.:                 0.01419\n",
            "Time:                        03:36:11   Log-Likelihood:                -377.27\n",
            "converged:                       True   LL-Null:                       -382.70\n",
            "Covariance Type:            nonrobust   LLR p-value:                  0.004375\n",
            "==============================================================================\n",
            "                 coef    std err          z      P>|z|      [0.025      0.975]\n",
            "------------------------------------------------------------------------------\n",
            "Age           -0.0141      0.003     -4.950      0.000      -0.020      -0.009\n",
            "SibSp         -0.2017      0.097     -2.087      0.037      -0.391      -0.012\n",
            "Parch          0.3120      0.111      2.807      0.005       0.094       0.530\n",
            "==============================================================================\n"
          ]
        }
      ]
    },
    {
      "cell_type": "code",
      "source": [
        "ageCoef = result.params.values[0]\n",
        "siblingsCoef = result.params.values[1]\n",
        "parentsCoef = result.params.values[2]"
      ],
      "metadata": {
        "id": "Wdv3pilOAspp"
      },
      "execution_count": 12,
      "outputs": []
    },
    {
      "cell_type": "code",
      "source": [
        "dfTest['PredictedValue'] = np.nan\n",
        "dfTest.index = range(dfTest.shape[0])\n",
        "\n",
        "for i in range(dfTest.shape[0]):\n",
        "  pred = 1/(1+e**((ageCoef*dfTest.loc[i, 'Age']) + (siblingsCoef*dfTest.loc[i, 'SibSp']) + (parentsCoef*dfTest.loc[i, 'Parch'])))\n",
        "  value = 0\n",
        "  if pred > 0.5:\n",
        "    value = 1\n",
        "  elif pred is not None:\n",
        "    value = 0\n",
        "  \n",
        "  dfTest['PredictedValue'][i] = value"
      ],
      "metadata": {
        "colab": {
          "base_uri": "https://localhost:8080/"
        },
        "id": "n9SdBfofAvp7",
        "outputId": "5e8f73a3-f6ad-44dc-ac0b-8d9fb040c133"
      },
      "execution_count": 13,
      "outputs": [
        {
          "output_type": "stream",
          "name": "stderr",
          "text": [
            "/usr/local/lib/python3.7/dist-packages/ipykernel_launcher.py:12: SettingWithCopyWarning: \n",
            "A value is trying to be set on a copy of a slice from a DataFrame\n",
            "\n",
            "See the caveats in the documentation: https://pandas.pydata.org/pandas-docs/stable/user_guide/indexing.html#returning-a-view-versus-a-copy\n",
            "  if sys.path[0] == '':\n"
          ]
        }
      ]
    },
    {
      "cell_type": "code",
      "source": [
        "dfTest['PredictedValue'].value_counts()"
      ],
      "metadata": {
        "colab": {
          "base_uri": "https://localhost:8080/"
        },
        "id": "THlmfN3cAxyh",
        "outputId": "6e02bf40-be5a-4ca7-fcd4-eed47613384e"
      },
      "execution_count": 14,
      "outputs": [
        {
          "output_type": "execute_result",
          "data": {
            "text/plain": [
              "1.0    125\n",
              "0.0     18\n",
              "Name: PredictedValue, dtype: int64"
            ]
          },
          "metadata": {},
          "execution_count": 14
        }
      ]
    },
    {
      "cell_type": "code",
      "source": [
        "dfTest['Survived'].value_counts()"
      ],
      "metadata": {
        "colab": {
          "base_uri": "https://localhost:8080/"
        },
        "id": "GM8IysRUAze5",
        "outputId": "9da0d44e-2657-4e61-c21c-67fcc4f60c6c"
      },
      "execution_count": 15,
      "outputs": [
        {
          "output_type": "execute_result",
          "data": {
            "text/plain": [
              "0    82\n",
              "1    61\n",
              "Name: Survived, dtype: int64"
            ]
          },
          "metadata": {},
          "execution_count": 15
        }
      ]
    },
    {
      "cell_type": "code",
      "source": [
        "dfTest[['Age', 'SibSp', 'Parch', 'Survived', 'PredictedValue']]"
      ],
      "metadata": {
        "colab": {
          "base_uri": "https://localhost:8080/",
          "height": 424
        },
        "id": "dNLbYztbA1K5",
        "outputId": "6f83436d-6771-46ac-f169-1b7c92e70702"
      },
      "execution_count": 16,
      "outputs": [
        {
          "output_type": "execute_result",
          "data": {
            "text/plain": [
              "       Age  SibSp  Parch  Survived  PredictedValue\n",
              "0     3.00      1      1         1             0.0\n",
              "1     0.92      1      2         1             0.0\n",
              "2    19.00      0      0         0             1.0\n",
              "3    10.00      3      2         0             1.0\n",
              "4    31.00      0      0         1             1.0\n",
              "..     ...    ...    ...       ...             ...\n",
              "138  22.00      0      0         0             1.0\n",
              "139  24.00      1      0         1             1.0\n",
              "140   4.00      3      2         0             1.0\n",
              "141  50.00      1      0         0             1.0\n",
              "142  22.00      0      0         0             1.0\n",
              "\n",
              "[143 rows x 5 columns]"
            ],
            "text/html": [
              "\n",
              "  <div id=\"df-10b54c5a-45ac-49a8-8e58-7f3268f87994\">\n",
              "    <div class=\"colab-df-container\">\n",
              "      <div>\n",
              "<style scoped>\n",
              "    .dataframe tbody tr th:only-of-type {\n",
              "        vertical-align: middle;\n",
              "    }\n",
              "\n",
              "    .dataframe tbody tr th {\n",
              "        vertical-align: top;\n",
              "    }\n",
              "\n",
              "    .dataframe thead th {\n",
              "        text-align: right;\n",
              "    }\n",
              "</style>\n",
              "<table border=\"1\" class=\"dataframe\">\n",
              "  <thead>\n",
              "    <tr style=\"text-align: right;\">\n",
              "      <th></th>\n",
              "      <th>Age</th>\n",
              "      <th>SibSp</th>\n",
              "      <th>Parch</th>\n",
              "      <th>Survived</th>\n",
              "      <th>PredictedValue</th>\n",
              "    </tr>\n",
              "  </thead>\n",
              "  <tbody>\n",
              "    <tr>\n",
              "      <th>0</th>\n",
              "      <td>3.00</td>\n",
              "      <td>1</td>\n",
              "      <td>1</td>\n",
              "      <td>1</td>\n",
              "      <td>0.0</td>\n",
              "    </tr>\n",
              "    <tr>\n",
              "      <th>1</th>\n",
              "      <td>0.92</td>\n",
              "      <td>1</td>\n",
              "      <td>2</td>\n",
              "      <td>1</td>\n",
              "      <td>0.0</td>\n",
              "    </tr>\n",
              "    <tr>\n",
              "      <th>2</th>\n",
              "      <td>19.00</td>\n",
              "      <td>0</td>\n",
              "      <td>0</td>\n",
              "      <td>0</td>\n",
              "      <td>1.0</td>\n",
              "    </tr>\n",
              "    <tr>\n",
              "      <th>3</th>\n",
              "      <td>10.00</td>\n",
              "      <td>3</td>\n",
              "      <td>2</td>\n",
              "      <td>0</td>\n",
              "      <td>1.0</td>\n",
              "    </tr>\n",
              "    <tr>\n",
              "      <th>4</th>\n",
              "      <td>31.00</td>\n",
              "      <td>0</td>\n",
              "      <td>0</td>\n",
              "      <td>1</td>\n",
              "      <td>1.0</td>\n",
              "    </tr>\n",
              "    <tr>\n",
              "      <th>...</th>\n",
              "      <td>...</td>\n",
              "      <td>...</td>\n",
              "      <td>...</td>\n",
              "      <td>...</td>\n",
              "      <td>...</td>\n",
              "    </tr>\n",
              "    <tr>\n",
              "      <th>138</th>\n",
              "      <td>22.00</td>\n",
              "      <td>0</td>\n",
              "      <td>0</td>\n",
              "      <td>0</td>\n",
              "      <td>1.0</td>\n",
              "    </tr>\n",
              "    <tr>\n",
              "      <th>139</th>\n",
              "      <td>24.00</td>\n",
              "      <td>1</td>\n",
              "      <td>0</td>\n",
              "      <td>1</td>\n",
              "      <td>1.0</td>\n",
              "    </tr>\n",
              "    <tr>\n",
              "      <th>140</th>\n",
              "      <td>4.00</td>\n",
              "      <td>3</td>\n",
              "      <td>2</td>\n",
              "      <td>0</td>\n",
              "      <td>1.0</td>\n",
              "    </tr>\n",
              "    <tr>\n",
              "      <th>141</th>\n",
              "      <td>50.00</td>\n",
              "      <td>1</td>\n",
              "      <td>0</td>\n",
              "      <td>0</td>\n",
              "      <td>1.0</td>\n",
              "    </tr>\n",
              "    <tr>\n",
              "      <th>142</th>\n",
              "      <td>22.00</td>\n",
              "      <td>0</td>\n",
              "      <td>0</td>\n",
              "      <td>0</td>\n",
              "      <td>1.0</td>\n",
              "    </tr>\n",
              "  </tbody>\n",
              "</table>\n",
              "<p>143 rows × 5 columns</p>\n",
              "</div>\n",
              "      <button class=\"colab-df-convert\" onclick=\"convertToInteractive('df-10b54c5a-45ac-49a8-8e58-7f3268f87994')\"\n",
              "              title=\"Convert this dataframe to an interactive table.\"\n",
              "              style=\"display:none;\">\n",
              "        \n",
              "  <svg xmlns=\"http://www.w3.org/2000/svg\" height=\"24px\"viewBox=\"0 0 24 24\"\n",
              "       width=\"24px\">\n",
              "    <path d=\"M0 0h24v24H0V0z\" fill=\"none\"/>\n",
              "    <path d=\"M18.56 5.44l.94 2.06.94-2.06 2.06-.94-2.06-.94-.94-2.06-.94 2.06-2.06.94zm-11 1L8.5 8.5l.94-2.06 2.06-.94-2.06-.94L8.5 2.5l-.94 2.06-2.06.94zm10 10l.94 2.06.94-2.06 2.06-.94-2.06-.94-.94-2.06-.94 2.06-2.06.94z\"/><path d=\"M17.41 7.96l-1.37-1.37c-.4-.4-.92-.59-1.43-.59-.52 0-1.04.2-1.43.59L10.3 9.45l-7.72 7.72c-.78.78-.78 2.05 0 2.83L4 21.41c.39.39.9.59 1.41.59.51 0 1.02-.2 1.41-.59l7.78-7.78 2.81-2.81c.8-.78.8-2.07 0-2.86zM5.41 20L4 18.59l7.72-7.72 1.47 1.35L5.41 20z\"/>\n",
              "  </svg>\n",
              "      </button>\n",
              "      \n",
              "  <style>\n",
              "    .colab-df-container {\n",
              "      display:flex;\n",
              "      flex-wrap:wrap;\n",
              "      gap: 12px;\n",
              "    }\n",
              "\n",
              "    .colab-df-convert {\n",
              "      background-color: #E8F0FE;\n",
              "      border: none;\n",
              "      border-radius: 50%;\n",
              "      cursor: pointer;\n",
              "      display: none;\n",
              "      fill: #1967D2;\n",
              "      height: 32px;\n",
              "      padding: 0 0 0 0;\n",
              "      width: 32px;\n",
              "    }\n",
              "\n",
              "    .colab-df-convert:hover {\n",
              "      background-color: #E2EBFA;\n",
              "      box-shadow: 0px 1px 2px rgba(60, 64, 67, 0.3), 0px 1px 3px 1px rgba(60, 64, 67, 0.15);\n",
              "      fill: #174EA6;\n",
              "    }\n",
              "\n",
              "    [theme=dark] .colab-df-convert {\n",
              "      background-color: #3B4455;\n",
              "      fill: #D2E3FC;\n",
              "    }\n",
              "\n",
              "    [theme=dark] .colab-df-convert:hover {\n",
              "      background-color: #434B5C;\n",
              "      box-shadow: 0px 1px 3px 1px rgba(0, 0, 0, 0.15);\n",
              "      filter: drop-shadow(0px 1px 2px rgba(0, 0, 0, 0.3));\n",
              "      fill: #FFFFFF;\n",
              "    }\n",
              "  </style>\n",
              "\n",
              "      <script>\n",
              "        const buttonEl =\n",
              "          document.querySelector('#df-10b54c5a-45ac-49a8-8e58-7f3268f87994 button.colab-df-convert');\n",
              "        buttonEl.style.display =\n",
              "          google.colab.kernel.accessAllowed ? 'block' : 'none';\n",
              "\n",
              "        async function convertToInteractive(key) {\n",
              "          const element = document.querySelector('#df-10b54c5a-45ac-49a8-8e58-7f3268f87994');\n",
              "          const dataTable =\n",
              "            await google.colab.kernel.invokeFunction('convertToInteractive',\n",
              "                                                     [key], {});\n",
              "          if (!dataTable) return;\n",
              "\n",
              "          const docLinkHtml = 'Like what you see? Visit the ' +\n",
              "            '<a target=\"_blank\" href=https://colab.research.google.com/notebooks/data_table.ipynb>data table notebook</a>'\n",
              "            + ' to learn more about interactive tables.';\n",
              "          element.innerHTML = '';\n",
              "          dataTable['output_type'] = 'display_data';\n",
              "          await google.colab.output.renderOutput(dataTable, element);\n",
              "          const docLink = document.createElement('div');\n",
              "          docLink.innerHTML = docLinkHtml;\n",
              "          element.appendChild(docLink);\n",
              "        }\n",
              "      </script>\n",
              "    </div>\n",
              "  </div>\n",
              "  "
            ]
          },
          "metadata": {},
          "execution_count": 16
        }
      ]
    },
    {
      "cell_type": "code",
      "source": [
        "counter = 0\n",
        "for i in range(dfTest.shape[0]):\n",
        "  if dfTest.loc[i, 'Survived'] == dfTest.loc[i, 'PredictedValue']:\n",
        "    counter+=1\n",
        "\n",
        "percentage = (counter/dfTest.shape[0])*100"
      ],
      "metadata": {
        "id": "K3Tcl7UTA3CJ"
      },
      "execution_count": 17,
      "outputs": []
    },
    {
      "cell_type": "code",
      "source": [
        "print(f'El porcentaje de prediccion es: {percentage}')"
      ],
      "metadata": {
        "colab": {
          "base_uri": "https://localhost:8080/"
        },
        "id": "XLgdBoEmA44Q",
        "outputId": "01453573-e6be-4076-ba3f-95b3a5120be3"
      },
      "execution_count": 18,
      "outputs": [
        {
          "output_type": "stream",
          "name": "stdout",
          "text": [
            "El porcentaje de prediccion es: 37.06293706293706\n"
          ]
        }
      ]
    },
    {
      "cell_type": "code",
      "source": [
        "dfTrain, dfTest = train_test_split(df0, test_size=0.2, random_state=25)"
      ],
      "metadata": {
        "id": "eEaw3970BCKp"
      },
      "execution_count": 21,
      "outputs": []
    },
    {
      "cell_type": "code",
      "source": [
        "x = dfTrain.iloc[:,[4, 5, 6, 7]]\n",
        "y = dfTrain.Survived\n",
        "logit_model = sm.Logit(y,x)\n",
        "result = logit_model.fit()\n",
        "print(result.summary())"
      ],
      "metadata": {
        "colab": {
          "base_uri": "https://localhost:8080/"
        },
        "id": "rkht8RPiBHgJ",
        "outputId": "0cafd26b-b9c7-40af-9b05-b44cdb52fea5"
      },
      "execution_count": 22,
      "outputs": [
        {
          "output_type": "stream",
          "name": "stdout",
          "text": [
            "Optimization terminated successfully.\n",
            "         Current function value: 0.538392\n",
            "         Iterations 6\n",
            "                           Logit Regression Results                           \n",
            "==============================================================================\n",
            "Dep. Variable:               Survived   No. Observations:                  569\n",
            "Model:                          Logit   Df Residuals:                      565\n",
            "Method:                           MLE   Df Model:                            3\n",
            "Date:                Sun, 06 Nov 2022   Pseudo R-squ.:                  0.1995\n",
            "Time:                        03:38:24   Log-Likelihood:                -306.35\n",
            "converged:                       True   LL-Null:                       -382.70\n",
            "Covariance Type:            nonrobust   LLR p-value:                 6.864e-33\n",
            "==============================================================================\n",
            "                 coef    std err          z      P>|z|      [0.025      0.975]\n",
            "------------------------------------------------------------------------------\n",
            "Sex            2.3661      0.224     10.582      0.000       1.928       2.804\n",
            "Age           -0.0320      0.004     -8.586      0.000      -0.039      -0.025\n",
            "SibSp         -0.4281      0.121     -3.525      0.000      -0.666      -0.190\n",
            "Parch         -0.0492      0.129     -0.381      0.703      -0.302       0.204\n",
            "==============================================================================\n"
          ]
        }
      ]
    },
    {
      "cell_type": "code",
      "source": [
        "sexCoef = result.params.values[0]\n",
        "ageCoef = result.params.values[1]\n",
        "siblingsCoef = result.params.values[2]\n",
        "parentsCoef = result.params.values[3]"
      ],
      "metadata": {
        "id": "-glsvWT3BKmY"
      },
      "execution_count": 23,
      "outputs": []
    },
    {
      "cell_type": "code",
      "source": [
        "dfTest['PredictedValue'] = np.nan\n",
        "dfTest.index = range(dfTest.shape[0])\n",
        "\n",
        "for i in range(dfTest.shape[0]):\n",
        "  pred = 1/(1+e**((sexCoef*dfTest.loc[i, 'Sex'] + ageCoef*dfTest.loc[i, 'Age']) + (siblingsCoef*dfTest.loc[i, 'SibSp']) + (parentsCoef*dfTest.loc[i, 'Parch'])))\n",
        "  value = 0\n",
        "  if pred > 0.5:\n",
        "    value = 1\n",
        "  elif pred is not None:\n",
        "    value = 0\n",
        "  \n",
        "  dfTest['PredictedValue'][i] = value"
      ],
      "metadata": {
        "colab": {
          "base_uri": "https://localhost:8080/"
        },
        "id": "XZavB6kvBPO6",
        "outputId": "fa569260-355e-437c-dc40-195bbe157957"
      },
      "execution_count": 24,
      "outputs": [
        {
          "output_type": "stream",
          "name": "stderr",
          "text": [
            "/usr/local/lib/python3.7/dist-packages/ipykernel_launcher.py:12: SettingWithCopyWarning: \n",
            "A value is trying to be set on a copy of a slice from a DataFrame\n",
            "\n",
            "See the caveats in the documentation: https://pandas.pydata.org/pandas-docs/stable/user_guide/indexing.html#returning-a-view-versus-a-copy\n",
            "  if sys.path[0] == '':\n"
          ]
        }
      ]
    },
    {
      "cell_type": "code",
      "source": [
        "dfTest['PredictedValue'].value_counts()"
      ],
      "metadata": {
        "colab": {
          "base_uri": "https://localhost:8080/"
        },
        "id": "FzGTJu2OBSTp",
        "outputId": "3f10ded9-0877-410d-ecd6-c06e801c2f83"
      },
      "execution_count": 25,
      "outputs": [
        {
          "output_type": "execute_result",
          "data": {
            "text/plain": [
              "1.0    87\n",
              "0.0    56\n",
              "Name: PredictedValue, dtype: int64"
            ]
          },
          "metadata": {},
          "execution_count": 25
        }
      ]
    },
    {
      "cell_type": "code",
      "source": [
        "dfTest['Survived'].value_counts()"
      ],
      "metadata": {
        "colab": {
          "base_uri": "https://localhost:8080/"
        },
        "id": "ULXWKCNBBTn4",
        "outputId": "9c2c15e1-b1aa-424c-c187-792d6a1bc550"
      },
      "execution_count": 26,
      "outputs": [
        {
          "output_type": "execute_result",
          "data": {
            "text/plain": [
              "0    82\n",
              "1    61\n",
              "Name: Survived, dtype: int64"
            ]
          },
          "metadata": {},
          "execution_count": 26
        }
      ]
    },
    {
      "cell_type": "code",
      "source": [
        "counter = 0\n",
        "for i in range(dfTest.shape[0]):\n",
        "  if dfTest.loc[i, 'Survived'] == dfTest.loc[i, 'PredictedValue']:\n",
        "    counter+=1\n",
        "\n",
        "percentage = (counter/dfTest.shape[0])*100"
      ],
      "metadata": {
        "id": "5T6vaO76BVPw"
      },
      "execution_count": 27,
      "outputs": []
    },
    {
      "cell_type": "code",
      "source": [
        "print(f'El porcentaje de prediccion es: {percentage}')"
      ],
      "metadata": {
        "id": "cKvCn5QSBXHg",
        "outputId": "77ec277f-d547-4c31-f51b-541dc7522282",
        "colab": {
          "base_uri": "https://localhost:8080/"
        }
      },
      "execution_count": 28,
      "outputs": [
        {
          "output_type": "stream",
          "name": "stdout",
          "text": [
            "El porcentaje de prediccion es: 20.27972027972028\n"
          ]
        }
      ]
    }
  ]
}